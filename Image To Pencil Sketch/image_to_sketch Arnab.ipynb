{
 "cells": [
  {
   "cell_type": "code",
   "execution_count": 1,
   "metadata": {
    "executionInfo": {
     "elapsed": 1175,
     "status": "ok",
     "timestamp": 1672382856426,
     "user": {
      "displayName": "Abhinaba Sarkar",
      "userId": "07074411780300518617"
     },
     "user_tz": -330
    },
    "id": "l3PFY-m13Cr6"
   },
   "outputs": [],
   "source": [
    "import cv2\n",
    "import matplotlib.pyplot as plt\n",
    "plt.style.use('seaborn')"
   ]
  },
  {
   "cell_type": "code",
   "execution_count": 2,
   "metadata": {
    "colab": {
     "base_uri": "https://localhost:8080/",
     "height": 481
    },
    "executionInfo": {
     "elapsed": 2418,
     "status": "ok",
     "timestamp": 1672382862313,
     "user": {
      "displayName": "Abhinaba Sarkar",
      "userId": "07074411780300518617"
     },
     "user_tz": -330
    },
    "id": "XpSecW5Z3Hwg",
    "outputId": "56dc51af-13de-48c0-f11a-80475282bba1"
   },
   "outputs": [
    {
     "ename": "error",
     "evalue": "OpenCV(4.6.0) D:\\a\\opencv-python\\opencv-python\\opencv\\modules\\imgproc\\src\\color.cpp:182: error: (-215:Assertion failed) !_src.empty() in function 'cv::cvtColor'\n",
     "output_type": "error",
     "traceback": [
      "\u001b[1;31m---------------------------------------------------------------------------\u001b[0m",
      "\u001b[1;31merror\u001b[0m                                     Traceback (most recent call last)",
      "Input \u001b[1;32mIn [2]\u001b[0m, in \u001b[0;36m<cell line: 2>\u001b[1;34m()\u001b[0m\n\u001b[0;32m      1\u001b[0m img \u001b[38;5;241m=\u001b[39m cv2\u001b[38;5;241m.\u001b[39mimread(\u001b[38;5;124m\"\u001b[39m\u001b[38;5;124mimage.jpg\u001b[39m\u001b[38;5;124m\"\u001b[39m)\n\u001b[1;32m----> 2\u001b[0m img \u001b[38;5;241m=\u001b[39m \u001b[43mcv2\u001b[49m\u001b[38;5;241;43m.\u001b[39;49m\u001b[43mcvtColor\u001b[49m\u001b[43m(\u001b[49m\u001b[43mimg\u001b[49m\u001b[43m,\u001b[49m\u001b[43mcv2\u001b[49m\u001b[38;5;241;43m.\u001b[39;49m\u001b[43mCOLOR_BGR2GRAY\u001b[49m\u001b[43m)\u001b[49m\n\u001b[0;32m      3\u001b[0m plt\u001b[38;5;241m.\u001b[39mfigure(figsize\u001b[38;5;241m=\u001b[39m(\u001b[38;5;241m8\u001b[39m,\u001b[38;5;241m8\u001b[39m))\n\u001b[0;32m      4\u001b[0m plt\u001b[38;5;241m.\u001b[39mimshow(img)\n",
      "\u001b[1;31merror\u001b[0m: OpenCV(4.6.0) D:\\a\\opencv-python\\opencv-python\\opencv\\modules\\imgproc\\src\\color.cpp:182: error: (-215:Assertion failed) !_src.empty() in function 'cv::cvtColor'\n"
     ]
    }
   ],
   "source": [
    "img = cv2.imread(\"image.jpg\")\n",
    "img = cv2.cvtColor(img,cv2.COLOR_BGR2GRAY)\n",
    "plt.figure(figsize=(8,8))\n",
    "plt.imshow(img)\n",
    "plt.axis(\"off\")\n",
    "plt.title(\"Original Image\")\n",
    "plt.show()"
   ]
  },
  {
   "cell_type": "code",
   "execution_count": null,
   "metadata": {
    "colab": {
     "base_uri": "https://localhost:8080/",
     "height": 481
    },
    "executionInfo": {
     "elapsed": 1190,
     "status": "ok",
     "timestamp": 1672382867043,
     "user": {
      "displayName": "Abhinaba Sarkar",
      "userId": "07074411780300518617"
     },
     "user_tz": -330
    },
    "id": "FLWOYFsH3LBd",
    "outputId": "ce1f06e7-df38-4ac9-caaf-6fab4cc4ab4e"
   },
   "outputs": [],
   "source": [
    "img_gray = cv2.cvtColor(img, cv2.COLOR_BGR2GRAY)\n",
    "plt.figure(figsize=(8,8))\n",
    "plt.imshow(img_gray,cmap=\"gray\")\n",
    "plt.axis(\"off\")\n",
    "plt.title(\"GrayScale Image\")\n",
    "plt.show()\n",
    "     "
   ]
  },
  {
   "cell_type": "code",
   "execution_count": null,
   "metadata": {
    "colab": {
     "base_uri": "https://localhost:8080/",
     "height": 481
    },
    "executionInfo": {
     "elapsed": 1398,
     "status": "ok",
     "timestamp": 1672382872067,
     "user": {
      "displayName": "Abhinaba Sarkar",
      "userId": "07074411780300518617"
     },
     "user_tz": -330
    },
    "id": "ZMccNNiC3ZTe",
    "outputId": "afd2a714-7e5b-4a3f-ea8f-8e5497d0793b"
   },
   "outputs": [],
   "source": [
    "img_invert = cv2.bitwise_not(img_gray)\n",
    "plt.figure(figsize=(8,8))\n",
    "plt.imshow(img_invert,cmap=\"gray\")\n",
    "plt.axis(\"off\")\n",
    "plt.title(\"Inverted Image\")\n",
    "plt.show()"
   ]
  },
  {
   "cell_type": "code",
   "execution_count": null,
   "metadata": {
    "colab": {
     "base_uri": "https://localhost:8080/",
     "height": 481
    },
    "executionInfo": {
     "elapsed": 1616,
     "status": "ok",
     "timestamp": 1672382876521,
     "user": {
      "displayName": "Abhinaba Sarkar",
      "userId": "07074411780300518617"
     },
     "user_tz": -330
    },
    "id": "2uY5ct7P3bnW",
    "outputId": "2f65f691-2ae9-42a4-944b-c9e1d48e2aa6"
   },
   "outputs": [],
   "source": [
    "img_smoothing = cv2.GaussianBlur(img_invert, (21, 21),sigmaX=0, sigmaY=0)\n",
    "plt.figure(figsize=(8,8))\n",
    "plt.imshow(img_smoothing,cmap=\"gray\")\n",
    "plt.axis(\"off\")\n",
    "plt.title(\"Smoothen Image\")\n",
    "plt.show()\n",
    "     "
   ]
  },
  {
   "cell_type": "code",
   "execution_count": null,
   "metadata": {
    "colab": {
     "base_uri": "https://localhost:8080/",
     "height": 481
    },
    "executionInfo": {
     "elapsed": 1287,
     "status": "ok",
     "timestamp": 1672382880576,
     "user": {
      "displayName": "Abhinaba Sarkar",
      "userId": "07074411780300518617"
     },
     "user_tz": -330
    },
    "id": "opME2oPp3eMY",
    "outputId": "ada773d0-f45e-40c5-8e1e-30df9baf26dc"
   },
   "outputs": [],
   "source": [
    "final = cv2.divide(img_gray, 255 - img_smoothing, scale=255)\n",
    "plt.figure(figsize=(8,8))\n",
    "plt.imshow(final,cmap=\"gray\")\n",
    "plt.axis(\"off\")\n",
    "plt.title(\"Final Sketch Image\")\n",
    "plt.show()\n",
    "     "
   ]
  },
  {
   "cell_type": "code",
   "execution_count": null,
   "metadata": {
    "colab": {
     "base_uri": "https://localhost:8080/",
     "height": 334
    },
    "executionInfo": {
     "elapsed": 3175,
     "status": "ok",
     "timestamp": 1672382887520,
     "user": {
      "displayName": "Abhinaba Sarkar",
      "userId": "07074411780300518617"
     },
     "user_tz": -330
    },
    "id": "7do9V3zd3iCZ",
    "outputId": "a18a6c19-8862-42be-8f5f-8a4574c0bf85"
   },
   "outputs": [],
   "source": [
    "plt.figure(figsize=(20,20))\n",
    "# plt.subplot(1,5,1)\n",
    "# plt.imshow(img)\n",
    "# plt.axis(\"off\")\n",
    "# plt.title(\"Original Image\")\n",
    "# plt.subplot(1,5,2)\n",
    "# plt.imshow(img_gray,cmap=\"gray\")\n",
    "# plt.axis(\"off\")\n",
    "# plt.title(\"GrayScale Image\")\n",
    "# plt.subplot(1,5,3)\n",
    "# plt.imshow(img_invert,cmap=\"gray\")\n",
    "# plt.axis(\"off\")\n",
    "# plt.title(\"Inverted Image\")\n",
    "# plt.subplot(1,5,4)\n",
    "# plt.imshow(img_smoothing,cmap=\"gray\")\n",
    "# plt.axis(\"off\")\n",
    "# plt.title(\"Smoothen Image\")\n",
    "# plt.subplot(1,5,5)\n",
    "# plt.imshow(final,cmap=\"gray\")\n",
    "# plt.axis(\"off\")\n",
    "# plt.title(\"Final Sketch Image\")\n",
    "# plt.show()"
   ]
  },
  {
   "cell_type": "code",
   "execution_count": null,
   "metadata": {
    "colab": {
     "base_uri": "https://localhost:8080/",
     "height": 334
    },
    "executionInfo": {
     "elapsed": 2478,
     "status": "ok",
     "timestamp": 1672382890491,
     "user": {
      "displayName": "Abhinaba Sarkar",
      "userId": "07074411780300518617"
     },
     "user_tz": -330
    },
    "id": "TFYF45nw3kIE",
    "outputId": "c3e76e82-0de6-48d8-aa38-b4b829893b05"
   },
   "outputs": [],
   "source": [
    "plt.figure(figsize=(20,20))\n",
    "plt.subplot(1,5,1)\n",
    "plt.imshow(img)\n",
    "plt.axis(\"off\")\n",
    "plt.title(\"Original Image\")\n",
    "plt.subplot(1,5,5)\n",
    "plt.imshow(final,cmap=\"gray\")\n",
    "plt.axis(\"off\")\n",
    "plt.title(\"Final Sketch Image\")\n",
    "plt.show()"
   ]
  },
  {
   "cell_type": "code",
   "execution_count": null,
   "metadata": {
    "id": "vmtRc-Uo3n7x"
   },
   "outputs": [],
   "source": []
  }
 ],
 "metadata": {
  "colab": {
   "authorship_tag": "ABX9TyOy6udeb+HN5fq8JuWKehL5",
   "provenance": []
  },
  "kernelspec": {
   "display_name": "Python 3 (ipykernel)",
   "language": "python",
   "name": "python3"
  },
  "language_info": {
   "codemirror_mode": {
    "name": "ipython",
    "version": 3
   },
   "file_extension": ".py",
   "mimetype": "text/x-python",
   "name": "python",
   "nbconvert_exporter": "python",
   "pygments_lexer": "ipython3",
   "version": "3.9.12"
  }
 },
 "nbformat": 4,
 "nbformat_minor": 1
}
